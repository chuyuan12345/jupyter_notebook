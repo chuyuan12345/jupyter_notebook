{
 "cells": [
  {
   "cell_type": "code",
   "execution_count": null,
   "metadata": {},
   "outputs": [],
   "source": [
    "import pandas as pd\n",
    "import numpy as np"
   ]
  },
  {
   "cell_type": "code",
   "execution_count": null,
   "metadata": {},
   "outputs": [],
   "source": [
    "# Load the data into a Pandas DataFrame\n",
    "df = pd.read_csv('data.csv', dtype=str, skiprows=1)\n",
    "\n",
    "# Explore the data\n",
    "df.head()  # Display the first 5 rows of the DataFrame\n",
    "df.info()  # Get information about the DataFrame, including data types and missing values\n",
    "\n",
    "# Handle missing values\n",
    "df.isnull().sum()  # Count the number of missing values in each column\n",
    "df.fillna(0, inplace=True)  # Replace missing values with 0\n",
    "\n",
    "# Drop unnecessary columns\n",
    "df.drop(['column1', 'column2'], axis=1, inplace=True)  # Drop columns by name\n",
    "\n",
    "# Rename columns\n",
    "df.rename(columns={'old_column_name': 'new_column_name'}, inplace=True)\n",
    "\n",
    "# Convert data types\n",
    "df['column_name'] = df['column_name'].astype(int)  # Convert column to integer data type\n",
    "\n",
    "# Filter data by rows\n",
    "filtered_df = df[df['column_name'] > 100]  # Filter rows based on a condition\n",
    "\n",
    "# Filter data by columns\n",
    "filtered_df = df[['col1', 'col2', 'col3']]\n",
    "\n",
    "# Group and aggregate data\n",
    "grouped_df = df.groupby('column_name').mean()  # Group by column and calculate mean\n",
    "grouped_df = df.groupby('column_name')['column_name_2'].transform('sum').reset_index()\n",
    "\n",
    "# Merge data\n",
    "df1 = pd.read_csv('data1.csv')\n",
    "df2 = pd.read_csv('data2.csv')\n",
    "merged_df = pd.merge(df1, df2, on='common_column', how='left', suffixes=('_df1', '_df2'))  \n",
    "\n",
    "# Pivot data\n",
    "pivot_df = df.pivot_table(index='column1', columns='column2', values='column3', aggfunc=np.mean)  # Create a pivot table\n",
    "\n",
    "# Reshape data\n",
    "melted_df = pd.melt(df, id_vars=['column1'], value_vars=['column2', 'column3'])  # Melt data from wide to long format\n",
    "\n",
    "# Sort data\n",
    "sorted_df = df.sort_values('column_name', ascending=False)  # Sort DataFrame by a column in descending order\n",
    "\n",
    "# Perform data calculations and transformations\n",
    "df['new_column'] = df['column1'] + df['column2']  # Create a new column with calculated values\n",
    "df['new_column'] = df['column1'].apply(lambda x: x * 2)  # Apply a function to a column\n",
    "\n",
    "# Save data to a file\n",
    "df.to_csv('processed_data.csv', index=False)  # Save DataFrame to a CSV file without including index"
   ]
  }
 ],
 "metadata": {
  "kernelspec": {
   "display_name": "Python 3",
   "language": "python",
   "name": "python3"
  },
  "language_info": {
   "codemirror_mode": {
    "name": "ipython",
    "version": 3
   },
   "file_extension": ".py",
   "mimetype": "text/x-python",
   "name": "python",
   "nbconvert_exporter": "python",
   "pygments_lexer": "ipython3",
   "version": "3.7.6"
  }
 },
 "nbformat": 4,
 "nbformat_minor": 4
}
