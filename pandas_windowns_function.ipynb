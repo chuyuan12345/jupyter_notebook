{
 "cells": [
  {
   "cell_type": "code",
   "execution_count": 1,
   "metadata": {},
   "outputs": [
    {
     "name": "stdout",
     "output_type": "stream",
     "text": [
      "   A  rolling_mean\n",
      "0  1           NaN\n",
      "1  2           NaN\n",
      "2  3           2.0\n",
      "3  4           3.0\n",
      "4  5           4.0\n"
     ]
    }
   ],
   "source": [
    "# Example usage of rolling() function to calculate rolling mean\n",
    "import pandas as pd\n",
    "\n",
    "# Create a DataFrame\n",
    "df = pd.DataFrame({'A': [1, 2, 3, 4, 5]})\n",
    "\n",
    "# Calculate rolling mean with window size of 3\n",
    "df['rolling_mean'] = df['A'].rolling(window=3).mean()\n",
    "\n",
    "# Display the DataFrame with rolling mean\n",
    "print(df)"
   ]
  },
  {
   "cell_type": "code",
   "execution_count": 3,
   "metadata": {},
   "outputs": [
    {
     "name": "stdout",
     "output_type": "stream",
     "text": [
      "   A  cumulative_sum\n",
      "0  1             1.0\n",
      "1  2             3.0\n",
      "2  3             6.0\n",
      "3  4            10.0\n",
      "4  5            15.0\n"
     ]
    }
   ],
   "source": [
    "# Example usage of expanding() function to calculate cumulative sum\n",
    "import pandas as pd\n",
    "\n",
    "# Create a DataFrame\n",
    "df = pd.DataFrame({'A': [1, 2, 3, 4, 5]})\n",
    "\n",
    "# Calculate cumulative sum\n",
    "df['cumulative_sum'] = df['A'].expanding().sum()\n",
    "\n",
    "# Display the DataFrame with cumulative sum\n",
    "print(df)\n"
   ]
  },
  {
   "cell_type": "code",
   "execution_count": 4,
   "metadata": {},
   "outputs": [
    {
     "name": "stdout",
     "output_type": "stream",
     "text": [
      "   A      ewma\n",
      "0  1  1.000000\n",
      "1  2  1.666667\n",
      "2  3  2.428571\n",
      "3  4  3.266667\n",
      "4  5  4.161290\n"
     ]
    }
   ],
   "source": [
    "# Example usage of ewm() function to calculate exponentially weighted moving average\n",
    "import pandas as pd\n",
    "\n",
    "# Create a DataFrame\n",
    "df = pd.DataFrame({'A': [1, 2, 3, 4, 5]})\n",
    "\n",
    "# Calculate exponentially weighted moving average with smoothing factor of 0.5\n",
    "df['ewma'] = df['A'].ewm(alpha=0.5).mean()\n",
    "\n",
    "# Display the DataFrame with exponentially weighted moving average\n",
    "print(df)\n"
   ]
  },
  {
   "cell_type": "code",
   "execution_count": null,
   "metadata": {},
   "outputs": [],
   "source": []
  }
 ],
 "metadata": {
  "kernelspec": {
   "display_name": "Python 3",
   "language": "python",
   "name": "python3"
  },
  "language_info": {
   "codemirror_mode": {
    "name": "ipython",
    "version": 3
   },
   "file_extension": ".py",
   "mimetype": "text/x-python",
   "name": "python",
   "nbconvert_exporter": "python",
   "pygments_lexer": "ipython3",
   "version": "3.7.6"
  }
 },
 "nbformat": 4,
 "nbformat_minor": 4
}
