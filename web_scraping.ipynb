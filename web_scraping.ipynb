{
 "cells": [
  {
   "cell_type": "code",
   "execution_count": null,
   "metadata": {},
   "outputs": [],
   "source": [
    "from bs4 import BeautifulSoup\n",
    "import urllib.request"
   ]
  },
  {
   "cell_type": "code",
   "execution_count": null,
   "metadata": {},
   "outputs": [],
   "source": [
    "# input the url link\n",
    "home_url = \"example_url\"\n",
    "# input the user agent information\n",
    "user_agent = 'example_agent' \n",
    "headers={'User-Agent':user_agent,}\n",
    "\n",
    "request=urllib.request.Request(home_url, None, headers)\n",
    "response = urllib.request.urlopen(request)\n",
    "html =response.read()"
   ]
  },
  {
   "cell_type": "code",
   "execution_count": null,
   "metadata": {},
   "outputs": [],
   "source": [
    "# find and store all the useful links on the page\n",
    "soup = BeautifulSoup(html, 'html.parser')\n",
    "usefulurls=[]\n",
    "pageurls = soup.find_all('a')\n",
    "for link in pageurls:\n",
    "    url = link.get('href')\n",
    "    if url.startswith('/xyz/'):\n",
    "        usefulurls.append(url)"
   ]
  },
  {
   "cell_type": "code",
   "execution_count": null,
   "metadata": {},
   "outputs": [],
   "source": [
    "# read the contents from all subpages through the links from homepage, then write them out in txt format\n",
    "with open('test.txt', 'w') as f:\n",
    "    for url in usefulurls[15:]:\n",
    "        full_url = home_url + url\n",
    "\n",
    "        request=urllib.request.Request(full_url, None, headers)\n",
    "        response = urllib.request.urlopen(request)\n",
    "        html =response.read()\n",
    "        soup = BeautifulSoup(html, 'html.parser')\n",
    "        \n",
    "        string = soup.find('h1').text\n",
    "        title = soup.find('title').text.strip()\n",
    "        contents = soup.find('article').text.replace('\\r','')\n",
    "        \n",
    "        print('Now writing ' + title)\n",
    "        \n",
    "        f.write(title + '\\n')\n",
    "        f.write(string + '\\n')\n",
    "        f.write(contents + '\\n')\n",
    "        f.write('\\n')\n",
    "\n",
    "        \n",
    "        subpage = int(string[string.find('/'):].replace('/','').replace('）',''))\n",
    "\n",
    "        for i in range(2,subpage+1):\n",
    "            full_url2 = full_url.replace('.html','') + '_' + str(i) + '.html'\n",
    "            request=urllib.request.Request(full_url2, None, headers)\n",
    "            response = urllib.request.urlopen(request)\n",
    "            html =response.read()\n",
    "            soup = BeautifulSoup(html, 'html.parser')\n",
    "            \n",
    "            subtitle = soup.find('h1').text\n",
    "            contents = soup.find('article').text.replace('\\r','')\n",
    "            \n",
    "            f.write(subtitle + '\\n')\n",
    "            f.write(contents + '\\n')\n",
    "            f.write('\\n')\n",
    "\n",
    "f.close()\n",
    "    "
   ]
  },
  {
   "cell_type": "code",
   "execution_count": null,
   "metadata": {},
   "outputs": [],
   "source": []
  },
  {
   "cell_type": "markdown",
   "metadata": {},
   "source": [
    "### draft"
   ]
  },
  {
   "cell_type": "code",
   "execution_count": null,
   "metadata": {},
   "outputs": [],
   "source": [
    "request=urllib.request.Request(full_url2, None, headers)\n",
    "response = urllib.request.urlopen(request)\n",
    "html =response.read()\n",
    "soup = BeautifulSoup(html, 'html.parser')"
   ]
  },
  {
   "cell_type": "code",
   "execution_count": null,
   "metadata": {},
   "outputs": [],
   "source": [
    "title = soup.find('title').text.strip()\n",
    "title"
   ]
  },
  {
   "cell_type": "code",
   "execution_count": null,
   "metadata": {},
   "outputs": [],
   "source": [
    "contents = soup.find('article').text.replace('\\r','')\n",
    "contents"
   ]
  },
  {
   "cell_type": "code",
   "execution_count": null,
   "metadata": {},
   "outputs": [],
   "source": [
    "string = soup.find('h1').text\n",
    "string"
   ]
  },
  {
   "cell_type": "code",
   "execution_count": null,
   "metadata": {},
   "outputs": [],
   "source": [
    "int(string[string.find('/'):].replace('/','').replace('）',''))"
   ]
  },
  {
   "cell_type": "code",
   "execution_count": null,
   "metadata": {},
   "outputs": [],
   "source": []
  }
 ],
 "metadata": {
  "kernelspec": {
   "display_name": "Python 3",
   "language": "python",
   "name": "python3"
  },
  "language_info": {
   "codemirror_mode": {
    "name": "ipython",
    "version": 3
   },
   "file_extension": ".py",
   "mimetype": "text/x-python",
   "name": "python",
   "nbconvert_exporter": "python",
   "pygments_lexer": "ipython3",
   "version": "3.7.6"
  }
 },
 "nbformat": 4,
 "nbformat_minor": 4
}
