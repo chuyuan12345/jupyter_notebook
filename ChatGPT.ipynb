{
 "cells": [
  {
   "cell_type": "code",
   "execution_count": 15,
   "metadata": {},
   "outputs": [],
   "source": [
    "# !pip install openai\n",
    "import openai"
   ]
  },
  {
   "cell_type": "code",
   "execution_count": 16,
   "metadata": {},
   "outputs": [
    {
     "name": "stdout",
     "output_type": "stream",
     "text": [
      "\n",
      "\n",
      "This is a difficult question to answer, as there are so many popular Python packages. Some of the most popular Python packages include:\n",
      "\n",
      "1. Django\n",
      "2. Flask\n",
      "3. Requests\n",
      "4. Beautiful Soup\n",
      "5. SciPy\n",
      "6. NumPy\n",
      "7. scikit-learn\n",
      "8. matplotlib\n",
      "9. seaborn\n",
      "10. pandas\n",
      "11. nltk\n",
      "12. spacy\n",
      "13. gensim\n",
      "14. keras\n",
      "15. tensorflow\n",
      "16. pytorch\n",
      "17. xgboost\n",
      "18. lightgbm\n",
      "19.catboost\n",
      "20. apache-beam\n"
     ]
    }
   ],
   "source": [
    "# Set up your API key\n",
    "openai.api_key = 'GPT_API_KEY' # change to the real key to start\n",
    "\n",
    "# Define your prompt\n",
    "prompt = 'What are top 20 most popular python packages?'\n",
    "\n",
    "# Set the engine and model parameters\n",
    "engine = 'text-davinci-002'\n",
    "model = 'text-davinci-002'\n",
    "\n",
    "# Generate text using the Completion API\n",
    "response = openai.Completion.create(\n",
    "  engine=engine,\n",
    "  prompt=prompt,\n",
    "  max_tokens=2000\n",
    ")\n",
    "\n",
    "# Print the generated text\n",
    "print(response['choices'][0]['text'])\n"
   ]
  },
  {
   "cell_type": "code",
   "execution_count": null,
   "metadata": {},
   "outputs": [],
   "source": []
  }
 ],
 "metadata": {
  "kernelspec": {
   "display_name": "Python 3",
   "language": "python",
   "name": "python3"
  },
  "language_info": {
   "codemirror_mode": {
    "name": "ipython",
    "version": 3
   },
   "file_extension": ".py",
   "mimetype": "text/x-python",
   "name": "python",
   "nbconvert_exporter": "python",
   "pygments_lexer": "ipython3",
   "version": "3.7.6"
  }
 },
 "nbformat": 4,
 "nbformat_minor": 4
}
